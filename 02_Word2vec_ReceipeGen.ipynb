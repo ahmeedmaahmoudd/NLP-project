{
  "cells": [
    {
      "cell_type": "markdown",
      "metadata": {
        "id": "GKU4hK3lR4ve"
      },
      "source": [
        "## Final Group Project NLP - Part 2\n",
        "\n",
        "* Ahmed Mohamed Elghamry Shehata\n",
        "* Ahmed Mahmoud Abdelmoneim Abdelhamid\n",
        "* Noureldin Mohamed Abdelsalm Mohamed Hamedo\n",
        "* Sergio Rodrigo Fernandez Testa"
      ]
    },
    {
      "cell_type": "markdown",
      "metadata": {
        "id": "y81wu3QzSdC-"
      },
      "source": [
        "## Downloading the Data"
      ]
    },
    {
      "cell_type": "code",
      "execution_count": null,
      "metadata": {
        "colab": {
          "base_uri": "https://localhost:8080/"
        },
        "id": "goFeh53ZRLhQ",
        "outputId": "1d0cf4e0-930c-44db-f571-e47e879aef43"
      },
      "outputs": [],
      "source": [
        "!gdown 1lnoaa6tE2gGDQEEz0DW2hvOnjIMK9oTo"
      ]
    },
    {
      "cell_type": "code",
      "execution_count": null,
      "metadata": {
        "colab": {
          "base_uri": "https://localhost:8080/"
        },
        "id": "aNpmHlEIRNo2",
        "outputId": "d8456a6b-1206-4255-ee1b-a6b91fa5fd15"
      },
      "outputs": [],
      "source": [
        "!unzip ./receipeData.zip"
      ]
    },
    {
      "cell_type": "markdown",
      "metadata": {
        "id": "HmEnt7i8oIO3"
      },
      "source": [
        "## Installation"
      ]
    },
    {
      "cell_type": "code",
      "execution_count": null,
      "metadata": {
        "colab": {
          "base_uri": "https://localhost:8080/"
        },
        "id": "x7sh_qvZoKvo",
        "outputId": "d8c81d12-6bf2-4c00-88d0-f39e8d21ab9b"
      },
      "outputs": [],
      "source": [
        "!pip install --upgrade --force-reinstall numpy gensim\n",
        "!pip install transformers datasets sentencepiece"
      ]
    },
    {
      "cell_type": "markdown",
      "metadata": {
        "id": "-6lo54G3SXl9"
      },
      "source": [
        "## Imports"
      ]
    },
    {
      "cell_type": "code",
      "execution_count": null,
      "metadata": {
        "id": "QWHgOgvtqLjU"
      },
      "outputs": [],
      "source": [
        "import pandas as pd"
      ]
    },
    {
      "cell_type": "markdown",
      "metadata": {
        "id": "hAnyh6vjSabe"
      },
      "source": [
        "## Loading the Data"
      ]
    },
    {
      "cell_type": "code",
      "execution_count": null,
      "metadata": {
        "colab": {
          "base_uri": "https://localhost:8080/",
          "height": 614
        },
        "id": "dS0-piQ9RUAW",
        "outputId": "94fd06bc-b776-4dbb-df68-f5f2229796b3"
      },
      "outputs": [
        {
          "data": {
            "application/vnd.google.colaboratory.intrinsic+json": {
              "type": "dataframe",
              "variable_name": "df"
            },
            "text/html": [
              "\n",
              "  <div id=\"df-2f48e474-d6e4-4cee-a2dc-6f5844d0fa32\" class=\"colab-df-container\">\n",
              "    <div>\n",
              "<style scoped>\n",
              "    .dataframe tbody tr th:only-of-type {\n",
              "        vertical-align: middle;\n",
              "    }\n",
              "\n",
              "    .dataframe tbody tr th {\n",
              "        vertical-align: top;\n",
              "    }\n",
              "\n",
              "    .dataframe thead th {\n",
              "        text-align: right;\n",
              "    }\n",
              "</style>\n",
              "<table border=\"1\" class=\"dataframe\">\n",
              "  <thead>\n",
              "    <tr style=\"text-align: right;\">\n",
              "      <th></th>\n",
              "      <th>title</th>\n",
              "      <th>ingredients</th>\n",
              "      <th>directions</th>\n",
              "      <th>link</th>\n",
              "      <th>source</th>\n",
              "      <th>NER</th>\n",
              "    </tr>\n",
              "  </thead>\n",
              "  <tbody>\n",
              "    <tr>\n",
              "      <th>0</th>\n",
              "      <td>No-Bake Nut Cookies</td>\n",
              "      <td>[\"1 c. firmly packed brown sugar\", \"1/2 c. eva...</td>\n",
              "      <td>[\"In a heavy 2-quart saucepan, mix brown sugar...</td>\n",
              "      <td>www.cookbooks.com/Recipe-Details.aspx?id=44874</td>\n",
              "      <td>Gathered</td>\n",
              "      <td>[\"brown sugar\", \"milk\", \"vanilla\", \"nuts\", \"bu...</td>\n",
              "    </tr>\n",
              "    <tr>\n",
              "      <th>1</th>\n",
              "      <td>Jewell Ball'S Chicken</td>\n",
              "      <td>[\"1 small jar chipped beef, cut up\", \"4 boned ...</td>\n",
              "      <td>[\"Place chipped beef on bottom of baking dish....</td>\n",
              "      <td>www.cookbooks.com/Recipe-Details.aspx?id=699419</td>\n",
              "      <td>Gathered</td>\n",
              "      <td>[\"beef\", \"chicken breasts\", \"cream of mushroom...</td>\n",
              "    </tr>\n",
              "    <tr>\n",
              "      <th>2</th>\n",
              "      <td>Creamy Corn</td>\n",
              "      <td>[\"2 (16 oz.) pkg. frozen corn\", \"1 (8 oz.) pkg...</td>\n",
              "      <td>[\"In a slow cooker, combine all ingredients. C...</td>\n",
              "      <td>www.cookbooks.com/Recipe-Details.aspx?id=10570</td>\n",
              "      <td>Gathered</td>\n",
              "      <td>[\"frozen corn\", \"cream cheese\", \"butter\", \"gar...</td>\n",
              "    </tr>\n",
              "    <tr>\n",
              "      <th>3</th>\n",
              "      <td>Chicken Funny</td>\n",
              "      <td>[\"1 large whole chicken\", \"2 (10 1/2 oz.) cans...</td>\n",
              "      <td>[\"Boil and debone chicken.\", \"Put bite size pi...</td>\n",
              "      <td>www.cookbooks.com/Recipe-Details.aspx?id=897570</td>\n",
              "      <td>Gathered</td>\n",
              "      <td>[\"chicken\", \"chicken gravy\", \"cream of mushroo...</td>\n",
              "    </tr>\n",
              "    <tr>\n",
              "      <th>4</th>\n",
              "      <td>Reeses Cups(Candy)</td>\n",
              "      <td>[\"1 c. peanut butter\", \"3/4 c. graham cracker ...</td>\n",
              "      <td>[\"Combine first four ingredients and press in ...</td>\n",
              "      <td>www.cookbooks.com/Recipe-Details.aspx?id=659239</td>\n",
              "      <td>Gathered</td>\n",
              "      <td>[\"peanut butter\", \"graham cracker crumbs\", \"bu...</td>\n",
              "    </tr>\n",
              "    <tr>\n",
              "      <th>...</th>\n",
              "      <td>...</td>\n",
              "      <td>...</td>\n",
              "      <td>...</td>\n",
              "      <td>...</td>\n",
              "      <td>...</td>\n",
              "      <td>...</td>\n",
              "    </tr>\n",
              "    <tr>\n",
              "      <th>2231137</th>\n",
              "      <td>Sunny's Fake Crepes</td>\n",
              "      <td>[\"1/2 cup chocolate hazelnut spread (recommend...</td>\n",
              "      <td>[\"Spread hazelnut spread on 1 side of each tor...</td>\n",
              "      <td>www.foodnetwork.com/recipes/sunny-anderson/sun...</td>\n",
              "      <td>Recipes1M</td>\n",
              "      <td>[\"chocolate hazelnut spread\", \"tortillas\", \"bu...</td>\n",
              "    </tr>\n",
              "    <tr>\n",
              "      <th>2231138</th>\n",
              "      <td>Devil Eggs</td>\n",
              "      <td>[\"1 dozen eggs\", \"1 paprika\", \"1 salt and pepp...</td>\n",
              "      <td>[\"Boil eggs on medium for 30mins.\", \"Then cool...</td>\n",
              "      <td>cookpad.com/us/recipes/355411-devil-eggs</td>\n",
              "      <td>Recipes1M</td>\n",
              "      <td>[\"eggs\", \"paprika\", \"salt\", \"choice\", \"miracle...</td>\n",
              "    </tr>\n",
              "    <tr>\n",
              "      <th>2231139</th>\n",
              "      <td>Extremely Easy and Quick - Namul Daikon Salad</td>\n",
              "      <td>[\"150 grams Daikon radish\", \"1 tbsp Sesame oil...</td>\n",
              "      <td>[\"Julienne the daikon and squeeze out the exce...</td>\n",
              "      <td>cookpad.com/us/recipes/153324-extremely-easy-a...</td>\n",
              "      <td>Recipes1M</td>\n",
              "      <td>[\"radish\", \"Sesame oil\", \"White sesame seeds\",...</td>\n",
              "    </tr>\n",
              "    <tr>\n",
              "      <th>2231140</th>\n",
              "      <td>Pan-Roasted Pork Chops With Apple Fritters</td>\n",
              "      <td>[\"1 cup apple cider\", \"6 tablespoons sugar\", \"...</td>\n",
              "      <td>[\"In a large bowl, mix the apple cider with 4 ...</td>\n",
              "      <td>cooking.nytimes.com/recipes/1015164</td>\n",
              "      <td>Recipes1M</td>\n",
              "      <td>[\"apple cider\", \"sugar\", \"kosher salt\", \"bay l...</td>\n",
              "    </tr>\n",
              "    <tr>\n",
              "      <th>2231141</th>\n",
              "      <td>Polpette in Spicy Tomato Sauce</td>\n",
              "      <td>[\"1 pound ground veal\", \"1/2 pound sweet Itali...</td>\n",
              "      <td>[\"Preheat the oven to 350.\", \"In a bowl, mix t...</td>\n",
              "      <td>www.foodandwine.com/recipes/polpette-spicy-tom...</td>\n",
              "      <td>Recipes1M</td>\n",
              "      <td>[\"ground veal\", \"sausage\", \"bread crumbs\", \"mi...</td>\n",
              "    </tr>\n",
              "  </tbody>\n",
              "</table>\n",
              "<p>2231142 rows × 6 columns</p>\n",
              "</div>\n",
              "    <div class=\"colab-df-buttons\">\n",
              "\n",
              "  <div class=\"colab-df-container\">\n",
              "    <button class=\"colab-df-convert\" onclick=\"convertToInteractive('df-2f48e474-d6e4-4cee-a2dc-6f5844d0fa32')\"\n",
              "            title=\"Convert this dataframe to an interactive table.\"\n",
              "            style=\"display:none;\">\n",
              "\n",
              "  <svg xmlns=\"http://www.w3.org/2000/svg\" height=\"24px\" viewBox=\"0 -960 960 960\">\n",
              "    <path d=\"M120-120v-720h720v720H120Zm60-500h600v-160H180v160Zm220 220h160v-160H400v160Zm0 220h160v-160H400v160ZM180-400h160v-160H180v160Zm440 0h160v-160H620v160ZM180-180h160v-160H180v160Zm440 0h160v-160H620v160Z\"/>\n",
              "  </svg>\n",
              "    </button>\n",
              "\n",
              "  <style>\n",
              "    .colab-df-container {\n",
              "      display:flex;\n",
              "      gap: 12px;\n",
              "    }\n",
              "\n",
              "    .colab-df-convert {\n",
              "      background-color: #E8F0FE;\n",
              "      border: none;\n",
              "      border-radius: 50%;\n",
              "      cursor: pointer;\n",
              "      display: none;\n",
              "      fill: #1967D2;\n",
              "      height: 32px;\n",
              "      padding: 0 0 0 0;\n",
              "      width: 32px;\n",
              "    }\n",
              "\n",
              "    .colab-df-convert:hover {\n",
              "      background-color: #E2EBFA;\n",
              "      box-shadow: 0px 1px 2px rgba(60, 64, 67, 0.3), 0px 1px 3px 1px rgba(60, 64, 67, 0.15);\n",
              "      fill: #174EA6;\n",
              "    }\n",
              "\n",
              "    .colab-df-buttons div {\n",
              "      margin-bottom: 4px;\n",
              "    }\n",
              "\n",
              "    [theme=dark] .colab-df-convert {\n",
              "      background-color: #3B4455;\n",
              "      fill: #D2E3FC;\n",
              "    }\n",
              "\n",
              "    [theme=dark] .colab-df-convert:hover {\n",
              "      background-color: #434B5C;\n",
              "      box-shadow: 0px 1px 3px 1px rgba(0, 0, 0, 0.15);\n",
              "      filter: drop-shadow(0px 1px 2px rgba(0, 0, 0, 0.3));\n",
              "      fill: #FFFFFF;\n",
              "    }\n",
              "  </style>\n",
              "\n",
              "    <script>\n",
              "      const buttonEl =\n",
              "        document.querySelector('#df-2f48e474-d6e4-4cee-a2dc-6f5844d0fa32 button.colab-df-convert');\n",
              "      buttonEl.style.display =\n",
              "        google.colab.kernel.accessAllowed ? 'block' : 'none';\n",
              "\n",
              "      async function convertToInteractive(key) {\n",
              "        const element = document.querySelector('#df-2f48e474-d6e4-4cee-a2dc-6f5844d0fa32');\n",
              "        const dataTable =\n",
              "          await google.colab.kernel.invokeFunction('convertToInteractive',\n",
              "                                                    [key], {});\n",
              "        if (!dataTable) return;\n",
              "\n",
              "        const docLinkHtml = 'Like what you see? Visit the ' +\n",
              "          '<a target=\"_blank\" href=https://colab.research.google.com/notebooks/data_table.ipynb>data table notebook</a>'\n",
              "          + ' to learn more about interactive tables.';\n",
              "        element.innerHTML = '';\n",
              "        dataTable['output_type'] = 'display_data';\n",
              "        await google.colab.output.renderOutput(dataTable, element);\n",
              "        const docLink = document.createElement('div');\n",
              "        docLink.innerHTML = docLinkHtml;\n",
              "        element.appendChild(docLink);\n",
              "      }\n",
              "    </script>\n",
              "  </div>\n",
              "\n",
              "\n",
              "    <div id=\"df-1cec62d1-fcfe-40a7-b905-cf733e2e1a44\">\n",
              "      <button class=\"colab-df-quickchart\" onclick=\"quickchart('df-1cec62d1-fcfe-40a7-b905-cf733e2e1a44')\"\n",
              "                title=\"Suggest charts\"\n",
              "                style=\"display:none;\">\n",
              "\n",
              "<svg xmlns=\"http://www.w3.org/2000/svg\" height=\"24px\"viewBox=\"0 0 24 24\"\n",
              "     width=\"24px\">\n",
              "    <g>\n",
              "        <path d=\"M19 3H5c-1.1 0-2 .9-2 2v14c0 1.1.9 2 2 2h14c1.1 0 2-.9 2-2V5c0-1.1-.9-2-2-2zM9 17H7v-7h2v7zm4 0h-2V7h2v10zm4 0h-2v-4h2v4z\"/>\n",
              "    </g>\n",
              "</svg>\n",
              "      </button>\n",
              "\n",
              "<style>\n",
              "  .colab-df-quickchart {\n",
              "      --bg-color: #E8F0FE;\n",
              "      --fill-color: #1967D2;\n",
              "      --hover-bg-color: #E2EBFA;\n",
              "      --hover-fill-color: #174EA6;\n",
              "      --disabled-fill-color: #AAA;\n",
              "      --disabled-bg-color: #DDD;\n",
              "  }\n",
              "\n",
              "  [theme=dark] .colab-df-quickchart {\n",
              "      --bg-color: #3B4455;\n",
              "      --fill-color: #D2E3FC;\n",
              "      --hover-bg-color: #434B5C;\n",
              "      --hover-fill-color: #FFFFFF;\n",
              "      --disabled-bg-color: #3B4455;\n",
              "      --disabled-fill-color: #666;\n",
              "  }\n",
              "\n",
              "  .colab-df-quickchart {\n",
              "    background-color: var(--bg-color);\n",
              "    border: none;\n",
              "    border-radius: 50%;\n",
              "    cursor: pointer;\n",
              "    display: none;\n",
              "    fill: var(--fill-color);\n",
              "    height: 32px;\n",
              "    padding: 0;\n",
              "    width: 32px;\n",
              "  }\n",
              "\n",
              "  .colab-df-quickchart:hover {\n",
              "    background-color: var(--hover-bg-color);\n",
              "    box-shadow: 0 1px 2px rgba(60, 64, 67, 0.3), 0 1px 3px 1px rgba(60, 64, 67, 0.15);\n",
              "    fill: var(--button-hover-fill-color);\n",
              "  }\n",
              "\n",
              "  .colab-df-quickchart-complete:disabled,\n",
              "  .colab-df-quickchart-complete:disabled:hover {\n",
              "    background-color: var(--disabled-bg-color);\n",
              "    fill: var(--disabled-fill-color);\n",
              "    box-shadow: none;\n",
              "  }\n",
              "\n",
              "  .colab-df-spinner {\n",
              "    border: 2px solid var(--fill-color);\n",
              "    border-color: transparent;\n",
              "    border-bottom-color: var(--fill-color);\n",
              "    animation:\n",
              "      spin 1s steps(1) infinite;\n",
              "  }\n",
              "\n",
              "  @keyframes spin {\n",
              "    0% {\n",
              "      border-color: transparent;\n",
              "      border-bottom-color: var(--fill-color);\n",
              "      border-left-color: var(--fill-color);\n",
              "    }\n",
              "    20% {\n",
              "      border-color: transparent;\n",
              "      border-left-color: var(--fill-color);\n",
              "      border-top-color: var(--fill-color);\n",
              "    }\n",
              "    30% {\n",
              "      border-color: transparent;\n",
              "      border-left-color: var(--fill-color);\n",
              "      border-top-color: var(--fill-color);\n",
              "      border-right-color: var(--fill-color);\n",
              "    }\n",
              "    40% {\n",
              "      border-color: transparent;\n",
              "      border-right-color: var(--fill-color);\n",
              "      border-top-color: var(--fill-color);\n",
              "    }\n",
              "    60% {\n",
              "      border-color: transparent;\n",
              "      border-right-color: var(--fill-color);\n",
              "    }\n",
              "    80% {\n",
              "      border-color: transparent;\n",
              "      border-right-color: var(--fill-color);\n",
              "      border-bottom-color: var(--fill-color);\n",
              "    }\n",
              "    90% {\n",
              "      border-color: transparent;\n",
              "      border-bottom-color: var(--fill-color);\n",
              "    }\n",
              "  }\n",
              "</style>\n",
              "\n",
              "      <script>\n",
              "        async function quickchart(key) {\n",
              "          const quickchartButtonEl =\n",
              "            document.querySelector('#' + key + ' button');\n",
              "          quickchartButtonEl.disabled = true;  // To prevent multiple clicks.\n",
              "          quickchartButtonEl.classList.add('colab-df-spinner');\n",
              "          try {\n",
              "            const charts = await google.colab.kernel.invokeFunction(\n",
              "                'suggestCharts', [key], {});\n",
              "          } catch (error) {\n",
              "            console.error('Error during call to suggestCharts:', error);\n",
              "          }\n",
              "          quickchartButtonEl.classList.remove('colab-df-spinner');\n",
              "          quickchartButtonEl.classList.add('colab-df-quickchart-complete');\n",
              "        }\n",
              "        (() => {\n",
              "          let quickchartButtonEl =\n",
              "            document.querySelector('#df-1cec62d1-fcfe-40a7-b905-cf733e2e1a44 button');\n",
              "          quickchartButtonEl.style.display =\n",
              "            google.colab.kernel.accessAllowed ? 'block' : 'none';\n",
              "        })();\n",
              "      </script>\n",
              "    </div>\n",
              "\n",
              "  <div id=\"id_491a3b0c-1f09-4481-b966-303eeeb7e9d3\">\n",
              "    <style>\n",
              "      .colab-df-generate {\n",
              "        background-color: #E8F0FE;\n",
              "        border: none;\n",
              "        border-radius: 50%;\n",
              "        cursor: pointer;\n",
              "        display: none;\n",
              "        fill: #1967D2;\n",
              "        height: 32px;\n",
              "        padding: 0 0 0 0;\n",
              "        width: 32px;\n",
              "      }\n",
              "\n",
              "      .colab-df-generate:hover {\n",
              "        background-color: #E2EBFA;\n",
              "        box-shadow: 0px 1px 2px rgba(60, 64, 67, 0.3), 0px 1px 3px 1px rgba(60, 64, 67, 0.15);\n",
              "        fill: #174EA6;\n",
              "      }\n",
              "\n",
              "      [theme=dark] .colab-df-generate {\n",
              "        background-color: #3B4455;\n",
              "        fill: #D2E3FC;\n",
              "      }\n",
              "\n",
              "      [theme=dark] .colab-df-generate:hover {\n",
              "        background-color: #434B5C;\n",
              "        box-shadow: 0px 1px 3px 1px rgba(0, 0, 0, 0.15);\n",
              "        filter: drop-shadow(0px 1px 2px rgba(0, 0, 0, 0.3));\n",
              "        fill: #FFFFFF;\n",
              "      }\n",
              "    </style>\n",
              "    <button class=\"colab-df-generate\" onclick=\"generateWithVariable('df')\"\n",
              "            title=\"Generate code using this dataframe.\"\n",
              "            style=\"display:none;\">\n",
              "\n",
              "  <svg xmlns=\"http://www.w3.org/2000/svg\" height=\"24px\"viewBox=\"0 0 24 24\"\n",
              "       width=\"24px\">\n",
              "    <path d=\"M7,19H8.4L18.45,9,17,7.55,7,17.6ZM5,21V16.75L18.45,3.32a2,2,0,0,1,2.83,0l1.4,1.43a1.91,1.91,0,0,1,.58,1.4,1.91,1.91,0,0,1-.58,1.4L9.25,21ZM18.45,9,17,7.55Zm-12,3A5.31,5.31,0,0,0,4.9,8.1,5.31,5.31,0,0,0,1,6.5,5.31,5.31,0,0,0,4.9,4.9,5.31,5.31,0,0,0,6.5,1,5.31,5.31,0,0,0,8.1,4.9,5.31,5.31,0,0,0,12,6.5,5.46,5.46,0,0,0,6.5,12Z\"/>\n",
              "  </svg>\n",
              "    </button>\n",
              "    <script>\n",
              "      (() => {\n",
              "      const buttonEl =\n",
              "        document.querySelector('#id_491a3b0c-1f09-4481-b966-303eeeb7e9d3 button.colab-df-generate');\n",
              "      buttonEl.style.display =\n",
              "        google.colab.kernel.accessAllowed ? 'block' : 'none';\n",
              "\n",
              "      buttonEl.onclick = () => {\n",
              "        google.colab.notebook.generateWithVariable('df');\n",
              "      }\n",
              "      })();\n",
              "    </script>\n",
              "  </div>\n",
              "\n",
              "    </div>\n",
              "  </div>\n"
            ],
            "text/plain": [
              "                                                 title  \\\n",
              "0                                  No-Bake Nut Cookies   \n",
              "1                                Jewell Ball'S Chicken   \n",
              "2                                          Creamy Corn   \n",
              "3                                        Chicken Funny   \n",
              "4                                 Reeses Cups(Candy)     \n",
              "...                                                ...   \n",
              "2231137                            Sunny's Fake Crepes   \n",
              "2231138                                     Devil Eggs   \n",
              "2231139  Extremely Easy and Quick - Namul Daikon Salad   \n",
              "2231140     Pan-Roasted Pork Chops With Apple Fritters   \n",
              "2231141                 Polpette in Spicy Tomato Sauce   \n",
              "\n",
              "                                               ingredients  \\\n",
              "0        [\"1 c. firmly packed brown sugar\", \"1/2 c. eva...   \n",
              "1        [\"1 small jar chipped beef, cut up\", \"4 boned ...   \n",
              "2        [\"2 (16 oz.) pkg. frozen corn\", \"1 (8 oz.) pkg...   \n",
              "3        [\"1 large whole chicken\", \"2 (10 1/2 oz.) cans...   \n",
              "4        [\"1 c. peanut butter\", \"3/4 c. graham cracker ...   \n",
              "...                                                    ...   \n",
              "2231137  [\"1/2 cup chocolate hazelnut spread (recommend...   \n",
              "2231138  [\"1 dozen eggs\", \"1 paprika\", \"1 salt and pepp...   \n",
              "2231139  [\"150 grams Daikon radish\", \"1 tbsp Sesame oil...   \n",
              "2231140  [\"1 cup apple cider\", \"6 tablespoons sugar\", \"...   \n",
              "2231141  [\"1 pound ground veal\", \"1/2 pound sweet Itali...   \n",
              "\n",
              "                                                directions  \\\n",
              "0        [\"In a heavy 2-quart saucepan, mix brown sugar...   \n",
              "1        [\"Place chipped beef on bottom of baking dish....   \n",
              "2        [\"In a slow cooker, combine all ingredients. C...   \n",
              "3        [\"Boil and debone chicken.\", \"Put bite size pi...   \n",
              "4        [\"Combine first four ingredients and press in ...   \n",
              "...                                                    ...   \n",
              "2231137  [\"Spread hazelnut spread on 1 side of each tor...   \n",
              "2231138  [\"Boil eggs on medium for 30mins.\", \"Then cool...   \n",
              "2231139  [\"Julienne the daikon and squeeze out the exce...   \n",
              "2231140  [\"In a large bowl, mix the apple cider with 4 ...   \n",
              "2231141  [\"Preheat the oven to 350.\", \"In a bowl, mix t...   \n",
              "\n",
              "                                                      link     source  \\\n",
              "0           www.cookbooks.com/Recipe-Details.aspx?id=44874   Gathered   \n",
              "1          www.cookbooks.com/Recipe-Details.aspx?id=699419   Gathered   \n",
              "2           www.cookbooks.com/Recipe-Details.aspx?id=10570   Gathered   \n",
              "3          www.cookbooks.com/Recipe-Details.aspx?id=897570   Gathered   \n",
              "4          www.cookbooks.com/Recipe-Details.aspx?id=659239   Gathered   \n",
              "...                                                    ...        ...   \n",
              "2231137  www.foodnetwork.com/recipes/sunny-anderson/sun...  Recipes1M   \n",
              "2231138           cookpad.com/us/recipes/355411-devil-eggs  Recipes1M   \n",
              "2231139  cookpad.com/us/recipes/153324-extremely-easy-a...  Recipes1M   \n",
              "2231140                cooking.nytimes.com/recipes/1015164  Recipes1M   \n",
              "2231141  www.foodandwine.com/recipes/polpette-spicy-tom...  Recipes1M   \n",
              "\n",
              "                                                       NER  \n",
              "0        [\"brown sugar\", \"milk\", \"vanilla\", \"nuts\", \"bu...  \n",
              "1        [\"beef\", \"chicken breasts\", \"cream of mushroom...  \n",
              "2        [\"frozen corn\", \"cream cheese\", \"butter\", \"gar...  \n",
              "3        [\"chicken\", \"chicken gravy\", \"cream of mushroo...  \n",
              "4        [\"peanut butter\", \"graham cracker crumbs\", \"bu...  \n",
              "...                                                    ...  \n",
              "2231137  [\"chocolate hazelnut spread\", \"tortillas\", \"bu...  \n",
              "2231138  [\"eggs\", \"paprika\", \"salt\", \"choice\", \"miracle...  \n",
              "2231139  [\"radish\", \"Sesame oil\", \"White sesame seeds\",...  \n",
              "2231140  [\"apple cider\", \"sugar\", \"kosher salt\", \"bay l...  \n",
              "2231141  [\"ground veal\", \"sausage\", \"bread crumbs\", \"mi...  \n",
              "\n",
              "[2231142 rows x 6 columns]"
            ]
          },
          "execution_count": 5,
          "metadata": {},
          "output_type": "execute_result"
        }
      ],
      "source": [
        "df=pd.read_csv(\"./data/dataset.csv\", index_col=0)\n",
        "df"
      ]
    },
    {
      "cell_type": "code",
      "execution_count": null,
      "metadata": {
        "colab": {
          "base_uri": "https://localhost:8080/"
        },
        "id": "kBWLhaSCSRPP",
        "outputId": "f30a0c00-dbb3-4a5e-95d0-ccdb67420048"
      },
      "outputs": [
        {
          "data": {
            "text/plain": [
              "[{'title': 'No-Bake Nut Cookies',\n",
              "  'ingredients': '[\"1 c. firmly packed brown sugar\", \"1/2 c. evaporated milk\", \"1/2 tsp. vanilla\", \"1/2 c. broken nuts (pecans)\", \"2 Tbsp. butter or margarine\", \"3 1/2 c. bite size shredded rice biscuits\"]',\n",
              "  'directions': '[\"In a heavy 2-quart saucepan, mix brown sugar, nuts, evaporated milk and butter or margarine.\", \"Stir over medium heat until mixture bubbles all over top.\", \"Boil and stir 5 minutes more. Take off heat.\", \"Stir in vanilla and cereal; mix well.\", \"Using 2 teaspoons, drop and shape into 30 clusters on wax paper.\", \"Let stand until firm, about 30 minutes.\"]',\n",
              "  'link': 'www.cookbooks.com/Recipe-Details.aspx?id=44874',\n",
              "  'source': 'Gathered',\n",
              "  'NER': '[\"brown sugar\", \"milk\", \"vanilla\", \"nuts\", \"butter\", \"bite size shredded rice biscuits\"]'},\n",
              " {'title': \"Jewell Ball'S Chicken\",\n",
              "  'ingredients': '[\"1 small jar chipped beef, cut up\", \"4 boned chicken breasts\", \"1 can cream of mushroom soup\", \"1 carton sour cream\"]',\n",
              "  'directions': '[\"Place chipped beef on bottom of baking dish.\", \"Place chicken on top of beef.\", \"Mix soup and cream together; pour over chicken. Bake, uncovered, at 275\\\\u00b0 for 3 hours.\"]',\n",
              "  'link': 'www.cookbooks.com/Recipe-Details.aspx?id=699419',\n",
              "  'source': 'Gathered',\n",
              "  'NER': '[\"beef\", \"chicken breasts\", \"cream of mushroom soup\", \"sour cream\"]'}]"
            ]
          },
          "execution_count": 6,
          "metadata": {},
          "output_type": "execute_result"
        }
      ],
      "source": [
        "recipes = df.to_dict(orient=\"records\")\n",
        "recipes[:2]"
      ]
    },
    {
      "cell_type": "markdown",
      "metadata": {
        "id": "xXWwB-gwj9Nw"
      },
      "source": [
        "## Word2Vec"
      ]
    },
    {
      "cell_type": "code",
      "execution_count": null,
      "metadata": {
        "colab": {
          "base_uri": "https://localhost:8080/"
        },
        "id": "TY7N09e9mXDa",
        "outputId": "9dd123ef-b6fc-4c63-9565-4aa0b8780703"
      },
      "outputs": [
        {
          "name": "stdout",
          "output_type": "stream",
          "text": [
            "[['brown', 'sugar'], ['milk'], ['vanilla']]\n"
          ]
        }
      ],
      "source": [
        "import json\n",
        "# This cell process the ingredients for a Word2Vec\n",
        "from gensim.utils import simple_preprocess\n",
        "\n",
        "# Extracting elements from column NER...\n",
        "corpus = []\n",
        "\n",
        "for recipe in df[\"NER\"]:\n",
        "    ingredients = json.loads(recipe)\n",
        "    for ing in ingredients:\n",
        "        tokens = simple_preprocess(ing, deacc=True)\n",
        "        if tokens:\n",
        "            corpus.append(tokens)\n",
        "\n",
        "print(corpus[:3])\n"
      ]
    },
    {
      "cell_type": "code",
      "execution_count": null,
      "metadata": {
        "id": "v8Wxz9IKmuNp"
      },
      "outputs": [],
      "source": [
        "# This cell train the Word2Vec\n",
        "from gensim.models import Word2Vec\n",
        "\n",
        "w2v_model = Word2Vec(\n",
        "    sentences=corpus,\n",
        "    vector_size=100,\n",
        "    window=5,\n",
        "    min_count=2,\n",
        "    workers=4,\n",
        "    sg=1\n",
        ")\n",
        "\n",
        "w2v_model.save(\"./data/embeddings.model\")\n"
      ]
    },
    {
      "cell_type": "code",
      "execution_count": 4,
      "metadata": {
        "id": "gs6bSGg9okcw"
      },
      "outputs": [
        {
          "name": "stdout",
          "output_type": "stream",
          "text": [
            "[('suger', 0.8257318139076233), ('usgar', 0.7939395308494568), ('sugah', 0.7874869704246521), ('sigar', 0.7562432885169983), ('domino', 0.7555842399597168), ('surgar', 0.7548619508743286), ('swerve', 0.732900857925415), ('colonial', 0.7252411246299744), ('sguar', 0.7230448126792908), ('suar', 0.703374445438385)]\n",
            "0.52810544\n"
          ]
        }
      ],
      "source": [
        "# Checking how similar are some word\n",
        "## NOTE: The example is bakery based\n",
        "print(w2v_model.wv.most_similar(\"sugar\"))\n",
        "print(w2v_model.wv.similarity(\"milk\", \"cream\"))"
      ]
    },
    {
      "cell_type": "code",
      "execution_count": 7,
      "metadata": {
        "id": "i_KKFRTJoubi"
      },
      "outputs": [
        {
          "data": {
            "application/vnd.plotly.v1+json": {
              "config": {
                "plotlyServerURL": "https://plot.ly"
              },
              "data": [
                {
                  "hovertemplate": "color=blue<br>x=%{x}<br>y=%{y}<br>z=%{z}<br>word=%{text}<extra></extra>",
                  "legendgroup": "blue",
                  "marker": {
                    "color": "blue",
                    "size": 5,
                    "symbol": "circle"
                  },
                  "mode": "markers+text",
                  "name": "blue",
                  "scene": "scene",
                  "showlegend": true,
                  "text": [
                    "salt",
                    "sugar",
                    "pepper",
                    "butter",
                    "oil",
                    "cheese",
                    "flour",
                    "onion",
                    "cream",
                    "garlic",
                    "ground",
                    "milk",
                    "water",
                    "eggs",
                    "vanilla",
                    "sauce",
                    "chicken",
                    "juice",
                    "powder",
                    "olive",
                    "baking",
                    "red",
                    "lemon",
                    "egg",
                    "green",
                    "fresh",
                    "white",
                    "brown",
                    "black",
                    "tomatoes",
                    "vinegar",
                    "cinnamon",
                    "onions",
                    "soda",
                    "chocolate",
                    "celery",
                    "beef",
                    "parsley",
                    "tomato",
                    "soup",
                    "vegetable",
                    "sour",
                    "rice",
                    "potatoes",
                    "bread",
                    "wine",
                    "cheddar",
                    "corn",
                    "beans",
                    "of",
                    "margarine",
                    "mustard",
                    "orange",
                    "parmesan",
                    "ginger",
                    "pineapple",
                    "sweet",
                    "mayonnaise",
                    "chili",
                    "broth",
                    "mushrooms",
                    "bell",
                    "coconut",
                    "nuts",
                    "basil",
                    "chips",
                    "carrots",
                    "soy",
                    "pecans",
                    "kosher",
                    "lime",
                    "nutmeg",
                    "honey",
                    "thyme",
                    "oregano",
                    "peppers",
                    "extra",
                    "frozen",
                    "virgin",
                    "unsalted",
                    "syrup",
                    "cumin",
                    "powdered",
                    "crumbs",
                    "worcestershire",
                    "cilantro",
                    "freshly",
                    "mix",
                    "paprika",
                    "yellow",
                    "italian",
                    "mushroom",
                    "cornstarch",
                    "heavy",
                    "shortening",
                    "cocoa",
                    "peanut"
                  ],
                  "type": "scatter3d",
                  "x": {
                    "bdata": "hBLLKjq6ob/SekIpd5nwvwOiZfb/yPg/O76Pkx3hAMBqG9wV8yfuvzS82DPGmcC/WDYgg2pe+785uO4UoevsP2b2SvfSuu2/2Z4NAWAD+D+XSybqLbHNPwhFdeN3NPa/PyUvQhSE/78fVhJmfdn2v1KSY5nCCfO/4GvYI6WZrb+xwmkTsr3EP7KZXeeKicS/ZzlLucR+5b8HZYEIVzmkv9kU63btDe6/DMEjgS0Z6D+T73urQ5LsP+mA88DhjfO/Y0KUDQ0G6D9tD8GYjXPnPyGHLQnbfdC/JTKMTrws47/BZ/HYglj0PyzOuU2xoPU/oGumqQE15L+DidvvrTTlP3RGalmpZNc/kbeqrTxm9L9IIdg0euzrv1N7Xe3eL/M/YlskWkLP0D/KXvpL8jcDQC7HQ0QcjPY/9e1rKn2T2L+4qOr54pLkv/IeGHXML+K/WRurDng817/35rqViFzuv1rN/gTu1M+/DTRRXruP4L+yiL0Tim51P8aFj/YNMYU/emKBa5CCxr/M4hPizELDP0+dgBaddwPAgfpyB4el5j8HtFMYYqbcP21WliUJkfI/CkhrsjR5+D+potK5XUu5v3YINCSKJMS/ialevlv6479LiTsHuJL1P2pGpTYtvPC/maq17fcjwD8QULNuupvuP1yKCAUIwOO/x6ENBoY707/zb1OA1ngEQPR3tmU9ufW/gpVjVqNp7D+epGyNlj6jPzOehNmSJdg/e8dZEsHjzD90GENwN9bxP9sbDFwph/s/QTZZqQd23r87lAsJWZ0CQORODOUhyANA9CTycodL7D/JEYtCDsHlv8zB6QI02ti/eTQZM5y65L/usBa10279v0oc8axsQfe/LSX/TKDU+T+OxEuXH8rrv+Pkt5LeDr2/21Q8jsyX7D9TbP+nARcEQINDya3GLOY/5gqv+GsExL8MIAChvzbxPyPiNdWoY7M/M2gxdgUv8D+YNmFixGnXP+3YVH1Siuq/pHFhYUwz/L9X95W9BAMGwLhLKTroF/C/6UB+y1RI678=",
                    "dtype": "f8"
                  },
                  "y": {
                    "bdata": "gFoSewZ9+T9TZ1J/hADZP0DN7JJnddu/ksZUwzZB6j9e9WxJ3WbkP2E0wBKok9e/YbkbXpEU2j+t+Y/UQY4AwAUdZSyvTa0/MkPlAKJC5D9KGpEDzh6+P6or8+MMde4/+Z8YGy2FlT9mvU14bi7Zv0p3PEqpDOM/a+NtrvZk0r/QI895FkDwv7Z93PSD9ps/rNq84TJH5z/FSZB8PkbpP+P9xHJrjOA/1ha4Qkwf5b//yIKjo1DUP7fRouBQjOG/sohsrXG96L9b3gpWJY7hv8OGugQcjcq/LxTmpKVY1799eXq9oJXjPwbeIx48r/u/b758UChjbb87tPIvdif8P0Rh/4C3GQPAuCtv8E9H5D8mFKFlpba5v9DgJVGF79m/thk/rbLneD9beuWLQlnjP2JxzhNO8PW/IJhxU2Ak5L9e46acU3bPv5pi19Ok3IK/e/SdXTz08r842SEGQpkAwJTugQB9etq/SEhjs8zv5b/epvoUy/PlvyJZpLorVPG/8uJ1cVkn+79OT0NL1MnhvyIAZ8+Ro+k/b9J+Na+21T+HYfbsAsq8v3nHAoW8QOk/hPyLaMon8j+/N2WZwMr0v9zietK3Tey/6Tj8unDV8T/P/iWZSMjVv7SKhDqmW7a/gfTP4iB4AcCFKxPev0L8v9iuPe/pm9I/LI8mL45f8j+am7aafGq9P+5syrilPLw/qJMmnnOC/r9LQTCKT1HkP3DJDyKSc+k/qbFDJ6VLA0CnMCSxdEDpP1PjjWnrxwBAYVrt4yUl9T+xcS+jt57pP0vTmEPH4PY/6xWTNbxu9r/jtL6A7svoPxYFUgM7lfm/I6rrPUQ18j+ImylEHkutPyHHhqeU5cA/QoG5CPfZ/z9t9COtMoHgP6FuODShZu8/NImrmE98q7/IecPE/efvP2h8zrBPzNo/qDUAkyYS6b9HO11DvbrvPy/sJnMA5uq/MPzq//If0r8VDa1sP7P4v6Hw17QXE9A/J02bXrTZyz8jIQHKzbLJP6I11JKdEPM/FhgJspU08z8=",
                    "dtype": "f8"
                  },
                  "z": {
                    "bdata": "Fl4+PM9Y1L+UmqaZLIWpv+nS3YMGguu/isLsUG1U/D89kjObWkXUvzzTtYL3YtQ/zZRaognJ6L+2k1dQ/2F8P6GEAiYZ2s6/bl7RQRhK0L8Hj1upAhzzv7YOpD8Tu2Q/9ZRocTuQ7j9crTZ4wCj2P1jtiPQMN8+/5un1wu41979AzVAdGf/UP5R+Ebl5Ctm/lAI/QRZV+b9LjVY6pwDWvw1MSCeXAOS/v/I/27+F5r/yQrtN5vC2PwkMNSQGxtA/p8MOi2pD0L87J5ERiC/gv11CR58PIcq/79cU9rOB5L8uN29F/BfXv2svXCFpJ/I/eOrER1Wf/L9fP2qhF+POP3CoSo4QnuA/+AzJ61Pk5D9Sey1IsBnfvxCwZWyIavo/rdXtcozl6j+UtSd8uIzwPznnc7+7tKk/AQPPh+feyr/BEUhEQUjpP8qyuKOBieS/YRZOEUAIyD+UdzcYtSTkP5I8hxrybeS/kEIet1QIAcBh9rQ8QCLgv3grJPQARd0/VR8HwxMX4r9DhqbLFBTXP1HNvRBkCP0/h0KtWOuf2L+Uq1n05lzMv8sif5aYSsI/ssjIA5vF9D+lcwFCp17yP4tbgycg3u6/GyuCPhbw4r8W8oRkGYLxvzTcNMRsKr2/v6sTEkYp9D9kK2rS+Hnwv/ejG+Sc4tc/vRL0ILW69j/YaOswYQPnPwH946iKTPC/nAEWk1IW/D/mz1R4TCoEwNHN5PtspPU/ewwJKwIO5b/y0twkAP7MPwXTwYTRD+4/f4c8sSjI4L+LPIsctkbuP+OvoX9mieI/Nj9xLAKi2r9JLENiKOm4P+UvaTUUKdO/VWwekdfzrT+O3cK5T/H1P71Rgh5vVPW/aBHAKATVy78dg69MS7n1vz/85NUFMu+/5AgWl0Q5BsAVveoBlZ73P9rMS7LPkei/EOoUELLy6b9hcN4OnZDfv1YxAQTt59S/IHIFfnxc37/3G1DudGXqP2pTc3xkeOo/L+gc7b8o+D8tDLImE/v7P+UTwVpukdU/sEBFvYMl4j8=",
                    "dtype": "f8"
                  }
                },
                {
                  "hovertemplate": "color=red<br>x=%{x}<br>y=%{y}<br>z=%{z}<br>word=%{text}<extra></extra>",
                  "legendgroup": "red",
                  "marker": {
                    "color": "red",
                    "size": 5,
                    "symbol": "circle"
                  },
                  "mode": "markers+text",
                  "name": "red",
                  "scene": "scene",
                  "showlegend": true,
                  "text": [
                    "bacon",
                    "pork",
                    "cake"
                  ],
                  "type": "scatter3d",
                  "x": {
                    "bdata": "TVkltVg94D9v7EU18F7qPxUEZOLr4/G/",
                    "dtype": "f8"
                  },
                  "y": {
                    "bdata": "B2agtRNFwz+KkO5VIF/VvyznxgtqRPO/",
                    "dtype": "f8"
                  },
                  "z": {
                    "bdata": "noSIH+Hw8z8rcPIitHzmP2D42RAS0ee/",
                    "dtype": "f8"
                  }
                }
              ],
              "layout": {
                "height": 600,
                "legend": {
                  "title": {
                    "text": "color"
                  },
                  "tracegroupgap": 0
                },
                "scene": {
                  "domain": {
                    "x": [
                      0,
                      1
                    ],
                    "y": [
                      0,
                      1
                    ]
                  },
                  "xaxis": {
                    "title": {
                      "text": "x"
                    }
                  },
                  "yaxis": {
                    "title": {
                      "text": "y"
                    }
                  },
                  "zaxis": {
                    "title": {
                      "text": "z"
                    }
                  }
                },
                "template": {
                  "data": {
                    "bar": [
                      {
                        "error_x": {
                          "color": "#2a3f5f"
                        },
                        "error_y": {
                          "color": "#2a3f5f"
                        },
                        "marker": {
                          "line": {
                            "color": "#E5ECF6",
                            "width": 0.5
                          },
                          "pattern": {
                            "fillmode": "overlay",
                            "size": 10,
                            "solidity": 0.2
                          }
                        },
                        "type": "bar"
                      }
                    ],
                    "barpolar": [
                      {
                        "marker": {
                          "line": {
                            "color": "#E5ECF6",
                            "width": 0.5
                          },
                          "pattern": {
                            "fillmode": "overlay",
                            "size": 10,
                            "solidity": 0.2
                          }
                        },
                        "type": "barpolar"
                      }
                    ],
                    "carpet": [
                      {
                        "aaxis": {
                          "endlinecolor": "#2a3f5f",
                          "gridcolor": "white",
                          "linecolor": "white",
                          "minorgridcolor": "white",
                          "startlinecolor": "#2a3f5f"
                        },
                        "baxis": {
                          "endlinecolor": "#2a3f5f",
                          "gridcolor": "white",
                          "linecolor": "white",
                          "minorgridcolor": "white",
                          "startlinecolor": "#2a3f5f"
                        },
                        "type": "carpet"
                      }
                    ],
                    "choropleth": [
                      {
                        "colorbar": {
                          "outlinewidth": 0,
                          "ticks": ""
                        },
                        "type": "choropleth"
                      }
                    ],
                    "contour": [
                      {
                        "colorbar": {
                          "outlinewidth": 0,
                          "ticks": ""
                        },
                        "colorscale": [
                          [
                            0,
                            "#0d0887"
                          ],
                          [
                            0.1111111111111111,
                            "#46039f"
                          ],
                          [
                            0.2222222222222222,
                            "#7201a8"
                          ],
                          [
                            0.3333333333333333,
                            "#9c179e"
                          ],
                          [
                            0.4444444444444444,
                            "#bd3786"
                          ],
                          [
                            0.5555555555555556,
                            "#d8576b"
                          ],
                          [
                            0.6666666666666666,
                            "#ed7953"
                          ],
                          [
                            0.7777777777777778,
                            "#fb9f3a"
                          ],
                          [
                            0.8888888888888888,
                            "#fdca26"
                          ],
                          [
                            1,
                            "#f0f921"
                          ]
                        ],
                        "type": "contour"
                      }
                    ],
                    "contourcarpet": [
                      {
                        "colorbar": {
                          "outlinewidth": 0,
                          "ticks": ""
                        },
                        "type": "contourcarpet"
                      }
                    ],
                    "heatmap": [
                      {
                        "colorbar": {
                          "outlinewidth": 0,
                          "ticks": ""
                        },
                        "colorscale": [
                          [
                            0,
                            "#0d0887"
                          ],
                          [
                            0.1111111111111111,
                            "#46039f"
                          ],
                          [
                            0.2222222222222222,
                            "#7201a8"
                          ],
                          [
                            0.3333333333333333,
                            "#9c179e"
                          ],
                          [
                            0.4444444444444444,
                            "#bd3786"
                          ],
                          [
                            0.5555555555555556,
                            "#d8576b"
                          ],
                          [
                            0.6666666666666666,
                            "#ed7953"
                          ],
                          [
                            0.7777777777777778,
                            "#fb9f3a"
                          ],
                          [
                            0.8888888888888888,
                            "#fdca26"
                          ],
                          [
                            1,
                            "#f0f921"
                          ]
                        ],
                        "type": "heatmap"
                      }
                    ],
                    "histogram": [
                      {
                        "marker": {
                          "pattern": {
                            "fillmode": "overlay",
                            "size": 10,
                            "solidity": 0.2
                          }
                        },
                        "type": "histogram"
                      }
                    ],
                    "histogram2d": [
                      {
                        "colorbar": {
                          "outlinewidth": 0,
                          "ticks": ""
                        },
                        "colorscale": [
                          [
                            0,
                            "#0d0887"
                          ],
                          [
                            0.1111111111111111,
                            "#46039f"
                          ],
                          [
                            0.2222222222222222,
                            "#7201a8"
                          ],
                          [
                            0.3333333333333333,
                            "#9c179e"
                          ],
                          [
                            0.4444444444444444,
                            "#bd3786"
                          ],
                          [
                            0.5555555555555556,
                            "#d8576b"
                          ],
                          [
                            0.6666666666666666,
                            "#ed7953"
                          ],
                          [
                            0.7777777777777778,
                            "#fb9f3a"
                          ],
                          [
                            0.8888888888888888,
                            "#fdca26"
                          ],
                          [
                            1,
                            "#f0f921"
                          ]
                        ],
                        "type": "histogram2d"
                      }
                    ],
                    "histogram2dcontour": [
                      {
                        "colorbar": {
                          "outlinewidth": 0,
                          "ticks": ""
                        },
                        "colorscale": [
                          [
                            0,
                            "#0d0887"
                          ],
                          [
                            0.1111111111111111,
                            "#46039f"
                          ],
                          [
                            0.2222222222222222,
                            "#7201a8"
                          ],
                          [
                            0.3333333333333333,
                            "#9c179e"
                          ],
                          [
                            0.4444444444444444,
                            "#bd3786"
                          ],
                          [
                            0.5555555555555556,
                            "#d8576b"
                          ],
                          [
                            0.6666666666666666,
                            "#ed7953"
                          ],
                          [
                            0.7777777777777778,
                            "#fb9f3a"
                          ],
                          [
                            0.8888888888888888,
                            "#fdca26"
                          ],
                          [
                            1,
                            "#f0f921"
                          ]
                        ],
                        "type": "histogram2dcontour"
                      }
                    ],
                    "mesh3d": [
                      {
                        "colorbar": {
                          "outlinewidth": 0,
                          "ticks": ""
                        },
                        "type": "mesh3d"
                      }
                    ],
                    "parcoords": [
                      {
                        "line": {
                          "colorbar": {
                            "outlinewidth": 0,
                            "ticks": ""
                          }
                        },
                        "type": "parcoords"
                      }
                    ],
                    "pie": [
                      {
                        "automargin": true,
                        "type": "pie"
                      }
                    ],
                    "scatter": [
                      {
                        "fillpattern": {
                          "fillmode": "overlay",
                          "size": 10,
                          "solidity": 0.2
                        },
                        "type": "scatter"
                      }
                    ],
                    "scatter3d": [
                      {
                        "line": {
                          "colorbar": {
                            "outlinewidth": 0,
                            "ticks": ""
                          }
                        },
                        "marker": {
                          "colorbar": {
                            "outlinewidth": 0,
                            "ticks": ""
                          }
                        },
                        "type": "scatter3d"
                      }
                    ],
                    "scattercarpet": [
                      {
                        "marker": {
                          "colorbar": {
                            "outlinewidth": 0,
                            "ticks": ""
                          }
                        },
                        "type": "scattercarpet"
                      }
                    ],
                    "scattergeo": [
                      {
                        "marker": {
                          "colorbar": {
                            "outlinewidth": 0,
                            "ticks": ""
                          }
                        },
                        "type": "scattergeo"
                      }
                    ],
                    "scattergl": [
                      {
                        "marker": {
                          "colorbar": {
                            "outlinewidth": 0,
                            "ticks": ""
                          }
                        },
                        "type": "scattergl"
                      }
                    ],
                    "scattermap": [
                      {
                        "marker": {
                          "colorbar": {
                            "outlinewidth": 0,
                            "ticks": ""
                          }
                        },
                        "type": "scattermap"
                      }
                    ],
                    "scattermapbox": [
                      {
                        "marker": {
                          "colorbar": {
                            "outlinewidth": 0,
                            "ticks": ""
                          }
                        },
                        "type": "scattermapbox"
                      }
                    ],
                    "scatterpolar": [
                      {
                        "marker": {
                          "colorbar": {
                            "outlinewidth": 0,
                            "ticks": ""
                          }
                        },
                        "type": "scatterpolar"
                      }
                    ],
                    "scatterpolargl": [
                      {
                        "marker": {
                          "colorbar": {
                            "outlinewidth": 0,
                            "ticks": ""
                          }
                        },
                        "type": "scatterpolargl"
                      }
                    ],
                    "scatterternary": [
                      {
                        "marker": {
                          "colorbar": {
                            "outlinewidth": 0,
                            "ticks": ""
                          }
                        },
                        "type": "scatterternary"
                      }
                    ],
                    "surface": [
                      {
                        "colorbar": {
                          "outlinewidth": 0,
                          "ticks": ""
                        },
                        "colorscale": [
                          [
                            0,
                            "#0d0887"
                          ],
                          [
                            0.1111111111111111,
                            "#46039f"
                          ],
                          [
                            0.2222222222222222,
                            "#7201a8"
                          ],
                          [
                            0.3333333333333333,
                            "#9c179e"
                          ],
                          [
                            0.4444444444444444,
                            "#bd3786"
                          ],
                          [
                            0.5555555555555556,
                            "#d8576b"
                          ],
                          [
                            0.6666666666666666,
                            "#ed7953"
                          ],
                          [
                            0.7777777777777778,
                            "#fb9f3a"
                          ],
                          [
                            0.8888888888888888,
                            "#fdca26"
                          ],
                          [
                            1,
                            "#f0f921"
                          ]
                        ],
                        "type": "surface"
                      }
                    ],
                    "table": [
                      {
                        "cells": {
                          "fill": {
                            "color": "#EBF0F8"
                          },
                          "line": {
                            "color": "white"
                          }
                        },
                        "header": {
                          "fill": {
                            "color": "#C8D4E3"
                          },
                          "line": {
                            "color": "white"
                          }
                        },
                        "type": "table"
                      }
                    ]
                  },
                  "layout": {
                    "annotationdefaults": {
                      "arrowcolor": "#2a3f5f",
                      "arrowhead": 0,
                      "arrowwidth": 1
                    },
                    "autotypenumbers": "strict",
                    "coloraxis": {
                      "colorbar": {
                        "outlinewidth": 0,
                        "ticks": ""
                      }
                    },
                    "colorscale": {
                      "diverging": [
                        [
                          0,
                          "#8e0152"
                        ],
                        [
                          0.1,
                          "#c51b7d"
                        ],
                        [
                          0.2,
                          "#de77ae"
                        ],
                        [
                          0.3,
                          "#f1b6da"
                        ],
                        [
                          0.4,
                          "#fde0ef"
                        ],
                        [
                          0.5,
                          "#f7f7f7"
                        ],
                        [
                          0.6,
                          "#e6f5d0"
                        ],
                        [
                          0.7,
                          "#b8e186"
                        ],
                        [
                          0.8,
                          "#7fbc41"
                        ],
                        [
                          0.9,
                          "#4d9221"
                        ],
                        [
                          1,
                          "#276419"
                        ]
                      ],
                      "sequential": [
                        [
                          0,
                          "#0d0887"
                        ],
                        [
                          0.1111111111111111,
                          "#46039f"
                        ],
                        [
                          0.2222222222222222,
                          "#7201a8"
                        ],
                        [
                          0.3333333333333333,
                          "#9c179e"
                        ],
                        [
                          0.4444444444444444,
                          "#bd3786"
                        ],
                        [
                          0.5555555555555556,
                          "#d8576b"
                        ],
                        [
                          0.6666666666666666,
                          "#ed7953"
                        ],
                        [
                          0.7777777777777778,
                          "#fb9f3a"
                        ],
                        [
                          0.8888888888888888,
                          "#fdca26"
                        ],
                        [
                          1,
                          "#f0f921"
                        ]
                      ],
                      "sequentialminus": [
                        [
                          0,
                          "#0d0887"
                        ],
                        [
                          0.1111111111111111,
                          "#46039f"
                        ],
                        [
                          0.2222222222222222,
                          "#7201a8"
                        ],
                        [
                          0.3333333333333333,
                          "#9c179e"
                        ],
                        [
                          0.4444444444444444,
                          "#bd3786"
                        ],
                        [
                          0.5555555555555556,
                          "#d8576b"
                        ],
                        [
                          0.6666666666666666,
                          "#ed7953"
                        ],
                        [
                          0.7777777777777778,
                          "#fb9f3a"
                        ],
                        [
                          0.8888888888888888,
                          "#fdca26"
                        ],
                        [
                          1,
                          "#f0f921"
                        ]
                      ]
                    },
                    "colorway": [
                      "#636efa",
                      "#EF553B",
                      "#00cc96",
                      "#ab63fa",
                      "#FFA15A",
                      "#19d3f3",
                      "#FF6692",
                      "#B6E880",
                      "#FF97FF",
                      "#FECB52"
                    ],
                    "font": {
                      "color": "#2a3f5f"
                    },
                    "geo": {
                      "bgcolor": "white",
                      "lakecolor": "white",
                      "landcolor": "#E5ECF6",
                      "showlakes": true,
                      "showland": true,
                      "subunitcolor": "white"
                    },
                    "hoverlabel": {
                      "align": "left"
                    },
                    "hovermode": "closest",
                    "mapbox": {
                      "style": "light"
                    },
                    "paper_bgcolor": "white",
                    "plot_bgcolor": "#E5ECF6",
                    "polar": {
                      "angularaxis": {
                        "gridcolor": "white",
                        "linecolor": "white",
                        "ticks": ""
                      },
                      "bgcolor": "#E5ECF6",
                      "radialaxis": {
                        "gridcolor": "white",
                        "linecolor": "white",
                        "ticks": ""
                      }
                    },
                    "scene": {
                      "xaxis": {
                        "backgroundcolor": "#E5ECF6",
                        "gridcolor": "white",
                        "gridwidth": 2,
                        "linecolor": "white",
                        "showbackground": true,
                        "ticks": "",
                        "zerolinecolor": "white"
                      },
                      "yaxis": {
                        "backgroundcolor": "#E5ECF6",
                        "gridcolor": "white",
                        "gridwidth": 2,
                        "linecolor": "white",
                        "showbackground": true,
                        "ticks": "",
                        "zerolinecolor": "white"
                      },
                      "zaxis": {
                        "backgroundcolor": "#E5ECF6",
                        "gridcolor": "white",
                        "gridwidth": 2,
                        "linecolor": "white",
                        "showbackground": true,
                        "ticks": "",
                        "zerolinecolor": "white"
                      }
                    },
                    "shapedefaults": {
                      "line": {
                        "color": "#2a3f5f"
                      }
                    },
                    "ternary": {
                      "aaxis": {
                        "gridcolor": "white",
                        "linecolor": "white",
                        "ticks": ""
                      },
                      "baxis": {
                        "gridcolor": "white",
                        "linecolor": "white",
                        "ticks": ""
                      },
                      "bgcolor": "#E5ECF6",
                      "caxis": {
                        "gridcolor": "white",
                        "linecolor": "white",
                        "ticks": ""
                      }
                    },
                    "title": {
                      "x": 0.05
                    },
                    "xaxis": {
                      "automargin": true,
                      "gridcolor": "white",
                      "linecolor": "white",
                      "ticks": "",
                      "title": {
                        "standoff": 15
                      },
                      "zerolinecolor": "white",
                      "zerolinewidth": 2
                    },
                    "yaxis": {
                      "automargin": true,
                      "gridcolor": "white",
                      "linecolor": "white",
                      "ticks": "",
                      "title": {
                        "standoff": 15
                      },
                      "zerolinecolor": "white",
                      "zerolinewidth": 2
                    }
                  }
                },
                "title": {
                  "text": "Word2Vec Embedding (3D PCA)"
                },
                "width": 800
              }
            }
          },
          "metadata": {},
          "output_type": "display_data"
        }
      ],
      "source": [
        "# 3D Interactive plot\n",
        "import plotly.express as px\n",
        "from sklearn.decomposition import PCA\n",
        "\n",
        "# Top 100 most freq words\n",
        "words = list(w2v_model.wv.index_to_key)[:100]\n",
        "vectors = [w2v_model.wv[word] for word in words]\n",
        "\n",
        "# 3D PCA\n",
        "pca = PCA(n_components=3)\n",
        "coords = pca.fit_transform(vectors)\n",
        "\n",
        "# Create DataFrame\n",
        "df_plot = pd.DataFrame(coords, columns=[\"x\", \"y\", \"z\"])\n",
        "df_plot[\"word\"] = words\n",
        "\n",
        "# New color col\n",
        "highlight_words = {\"pork\", \"bacon\", \"cake\"}\n",
        "df_plot[\"color\"] = df_plot[\"word\"].apply(\n",
        "    lambda w: \"red\" if w in highlight_words else \"blue\")\n",
        "\n",
        "# Plot\n",
        "fig = px.scatter_3d(\n",
        "    df_plot,\n",
        "    x=\"x\", y=\"y\", z=\"z\",\n",
        "    text=\"word\",\n",
        "    color=\"color\",\n",
        "    color_discrete_map={\"red\": \"red\", \"blue\": \"blue\"},\n",
        "    title=\"Word2Vec Embedding (3D PCA)\",\n",
        "    width=800, height=600\n",
        ")\n",
        "\n",
        "fig.update_traces(marker=dict(size=5))\n",
        "fig.show()\n"
      ]
    },
    {
      "cell_type": "code",
      "execution_count": null,
      "metadata": {
        "colab": {
          "base_uri": "https://localhost:8080/"
        },
        "id": "CuJWYRYBtQdb",
        "outputId": "b41d92a2-709f-4b53-ad3a-063cd82ac9b5"
      },
      "outputs": [
        {
          "name": "stdout",
          "output_type": "stream",
          "text": [
            "Similarity (pork vs bacon): 0.4290\n",
            "Similarity (pork vs cake):  0.1966\n",
            "✅ Pork is semantically closer to bacon than to cake.\n"
          ]
        }
      ],
      "source": [
        "from sklearn.metrics.pairwise import cosine_similarity\n",
        "import numpy as np\n",
        "\n",
        "# Asegúrate de que estén en el vocabulario\n",
        "for word in [\"pork\", \"bacon\", \"cake\"]:\n",
        "    if word not in w2v_model.wv:\n",
        "        print(f\"'{word}' not in vocabulary\")\n",
        "\n",
        "# Extraemos los vectores\n",
        "vec_pork = w2v_model.wv[\"pork\"]\n",
        "vec_bacon = w2v_model.wv[\"bacon\"]\n",
        "vec_cake = w2v_model.wv[\"cake\"]\n",
        "\n",
        "# Calculamos similitudes\n",
        "sim_pork_bacon = cosine_similarity([vec_pork], [vec_bacon])[0][0]\n",
        "sim_pork_cake = cosine_similarity([vec_pork], [vec_cake])[0][0]\n",
        "\n",
        "print(f\"Similarity (pork vs bacon): {sim_pork_bacon:.4f}\")\n",
        "print(f\"Similarity (pork vs cake):  {sim_pork_cake:.4f}\")\n",
        "\n",
        "# Veredicto\n",
        "if sim_pork_bacon > sim_pork_cake:\n",
        "    print(\"✅ Pork is semantically closer to bacon than to cake.\")\n",
        "else:\n",
        "    print(\"⚠️ Unexpected result: pork is closer to cake.\")\n"
      ]
    }
  ],
  "metadata": {
    "colab": {
      "provenance": []
    },
    "kernelspec": {
      "display_name": "NLP_Project",
      "language": "python",
      "name": "python3"
    },
    "language_info": {
      "codemirror_mode": {
        "name": "ipython",
        "version": 3
      },
      "file_extension": ".py",
      "mimetype": "text/x-python",
      "name": "python",
      "nbconvert_exporter": "python",
      "pygments_lexer": "ipython3",
      "version": "3.11.11"
    }
  },
  "nbformat": 4,
  "nbformat_minor": 0
}
