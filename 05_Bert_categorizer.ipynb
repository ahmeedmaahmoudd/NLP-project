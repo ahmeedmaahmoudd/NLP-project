{
  "cells": [
    {
      "cell_type": "markdown",
      "id": "59bdec3d",
      "metadata": {},
      "source": [
        "# Final Group Project NLP - Part 5\n",
        "\n",
        "* Ahmed Mohamed Elghamry Shehata\n",
        "* Ahmed Mahmoud Abdelmoneim Abdelhamid\n",
        "* Noureldin Mohamed Abdelsalm Mohamed Hamedo\n",
        "* Sergio Rodrigo Fernandez Testa"
      ]
    },
    {
      "cell_type": "markdown",
      "id": "92cccf9a",
      "metadata": {
        "id": "92cccf9a"
      },
      "source": [
        "# BERT Categorizer"
      ]
    },
    {
      "cell_type": "code",
      "execution_count": null,
      "id": "S-g0nLIa0Jjh",
      "metadata": {
        "colab": {
          "base_uri": "https://localhost:8080/"
        },
        "id": "S-g0nLIa0Jjh",
        "outputId": "7ddc17cb-8a21-453d-8249-930028f025ec"
      },
      "outputs": [
        {
          "name": "stdout",
          "output_type": "stream",
          "text": [
            "Downloading...\n",
            "From (original): https://drive.google.com/uc?id=1sST4xH7AbvoaDYmMyns7oJqsr7WppbQg\n",
            "From (redirected): https://drive.google.com/uc?id=1sST4xH7AbvoaDYmMyns7oJqsr7WppbQg&confirm=t&uuid=331a79d5-32cc-47e0-97fd-35817b8e83b4\n",
            "To: /content/NLP_data.zip\n",
            "100% 725M/725M [00:13<00:00, 52.2MB/s]\n"
          ]
        }
      ],
      "source": [
        "!gdown 1sST4xH7AbvoaDYmMyns7oJqsr7WppbQg"
      ]
    },
    {
      "cell_type": "code",
      "execution_count": null,
      "id": "mFy7RZpy0UY0",
      "metadata": {
        "colab": {
          "base_uri": "https://localhost:8080/"
        },
        "id": "mFy7RZpy0UY0",
        "outputId": "c08143ca-dd00-4562-bb22-84af85e147e4"
      },
      "outputs": [
        {
          "name": "stdout",
          "output_type": "stream",
          "text": [
            "Archive:  NLP_data.zip\n",
            "   creating: content/drive/MyDrive/NLP data/\n",
            "   creating: content/drive/MyDrive/NLP data/recipe_classifier/\n",
            "  inflating: content/drive/MyDrive/NLP data/recipe_classifier/tokenizer_config.json  \n",
            "  inflating: content/drive/MyDrive/NLP data/recipe_classifier/special_tokens_map.json  \n",
            "  inflating: content/drive/MyDrive/NLP data/recipe_classifier/vocab.txt  \n",
            "  inflating: content/drive/MyDrive/NLP data/Clustered_dataset.csv  \n",
            "  inflating: content/drive/MyDrive/NLP data/test_encodings.pkl  \n",
            "  inflating: content/drive/MyDrive/NLP data/train_encodings.pkl  \n",
            "  inflating: content/drive/MyDrive/NLP data/test_labels.csv  \n",
            "  inflating: content/drive/MyDrive/NLP data/train_labels.csv  \n"
          ]
        }
      ],
      "source": [
        "!unzip NLP_data.zip"
      ]
    },
    {
      "cell_type": "code",
      "execution_count": null,
      "id": "028ebcbd",
      "metadata": {
        "id": "028ebcbd"
      },
      "outputs": [],
      "source": [
        "import pandas as pd\n",
        "import re\n",
        "import ast"
      ]
    },
    {
      "cell_type": "code",
      "execution_count": null,
      "id": "vw-g6FcfyXeO",
      "metadata": {
        "id": "vw-g6FcfyXeO"
      },
      "outputs": [],
      "source": [
        "data_folder = \"/content/content/drive/MyDrive/NLP data\""
      ]
    },
    {
      "cell_type": "code",
      "execution_count": null,
      "id": "df811651",
      "metadata": {
        "id": "df811651"
      },
      "outputs": [],
      "source": [
        "from transformers import AutoTokenizer, AutoModelForSequenceClassification, Trainer\n",
        "tokenizer = AutoTokenizer.from_pretrained(f\"{data_folder}/recipe_classifier\")"
      ]
    },
    {
      "cell_type": "code",
      "execution_count": null,
      "id": "f6d046d3",
      "metadata": {
        "id": "f6d046d3"
      },
      "outputs": [],
      "source": [
        "import joblib\n",
        "train_encodings = joblib.load(f\"{data_folder}/train_encodings.pkl\")\n",
        "test_encodings = joblib.load(f\"{data_folder}/test_encodings.pkl\")"
      ]
    },
    {
      "cell_type": "code",
      "execution_count": null,
      "id": "c1351e3a",
      "metadata": {
        "id": "c1351e3a"
      },
      "outputs": [],
      "source": [
        "import pandas as pd\n",
        "train_labels = pd.read_csv(f\"{data_folder}/train_labels.csv\")\n",
        "train_labels = train_labels['label'].tolist()\n",
        "\n",
        "test_labels = pd.read_csv(f\"{data_folder}/test_labels.csv\")\n",
        "test_labels = test_labels['label'].tolist()"
      ]
    },
    {
      "cell_type": "code",
      "execution_count": null,
      "id": "f9d7e411",
      "metadata": {
        "id": "f9d7e411"
      },
      "outputs": [],
      "source": [
        "import torch\n",
        "\n",
        "class RecipeDataset(torch.utils.data.Dataset):\n",
        "    def __init__(self, encodings, labels):\n",
        "        self.encodings = encodings\n",
        "        self.labels = labels\n",
        "\n",
        "    def __getitem__(self, idx):\n",
        "        item = {key: torch.tensor(val[idx]) for key, val in self.encodings.items()}\n",
        "        item[\"labels\"] = torch.tensor(self.labels[idx])\n",
        "        return item\n",
        "\n",
        "    def __len__(self):\n",
        "        return len(self.labels)\n",
        "\n",
        "train_dataset = RecipeDataset(train_encodings, train_labels)\n",
        "test_dataset = RecipeDataset(test_encodings, test_labels)\n"
      ]
    },
    {
      "cell_type": "code",
      "execution_count": null,
      "id": "8b8b0291",
      "metadata": {
        "colab": {
          "base_uri": "https://localhost:8080/",
          "height": 276
        },
        "id": "8b8b0291",
        "outputId": "2eb12077-02b0-4066-ac9a-23778d9374e1"
      },
      "outputs": [
        {
          "name": "stderr",
          "output_type": "stream",
          "text": [
            "Some weights of DistilBertForSequenceClassification were not initialized from the model checkpoint at distilbert-base-uncased and are newly initialized: ['classifier.bias', 'classifier.weight', 'pre_classifier.bias', 'pre_classifier.weight']\n",
            "You should probably TRAIN this model on a down-stream task to be able to use it for predictions and inference.\n"
          ]
        },
        {
          "data": {
            "text/html": [
              "\n",
              "    <div>\n",
              "      \n",
              "      <progress value='5625' max='5625' style='width:300px; height:20px; vertical-align: middle;'></progress>\n",
              "      [5625/5625 21:16, Epoch 3/3]\n",
              "    </div>\n",
              "    <table border=\"1\" class=\"dataframe\">\n",
              "  <thead>\n",
              " <tr style=\"text-align: left;\">\n",
              "      <th>Epoch</th>\n",
              "      <th>Training Loss</th>\n",
              "      <th>Validation Loss</th>\n",
              "    </tr>\n",
              "  </thead>\n",
              "  <tbody>\n",
              "    <tr>\n",
              "      <td>1</td>\n",
              "      <td>0.104900</td>\n",
              "      <td>0.065670</td>\n",
              "    </tr>\n",
              "    <tr>\n",
              "      <td>2</td>\n",
              "      <td>0.046500</td>\n",
              "      <td>0.058063</td>\n",
              "    </tr>\n",
              "    <tr>\n",
              "      <td>3</td>\n",
              "      <td>0.007000</td>\n",
              "      <td>0.075414</td>\n",
              "    </tr>\n",
              "  </tbody>\n",
              "</table><p>"
            ],
            "text/plain": [
              "<IPython.core.display.HTML object>"
            ]
          },
          "metadata": {},
          "output_type": "display_data"
        },
        {
          "data": {
            "text/plain": [
              "TrainOutput(global_step=5625, training_loss=0.05214171215856655, metrics={'train_runtime': 1276.9642, 'train_samples_per_second': 70.48, 'train_steps_per_second': 4.405, 'total_flos': 2980516469760000.0, 'train_loss': 0.05214171215856655, 'epoch': 3.0})"
            ]
          },
          "execution_count": 20,
          "metadata": {},
          "output_type": "execute_result"
        }
      ],
      "source": [
        "from transformers import DistilBertForSequenceClassification, Trainer, TrainingArguments\n",
        "from torch.utils.data import Subset\n",
        "import numpy as np\n",
        "\n",
        "# Subset size\n",
        "N = 30_000\n",
        "N_eval = 10_000\n",
        "\n",
        "# Create consistent random indices\n",
        "train_indices = np.random.choice(len(train_dataset), N, replace=False)\n",
        "eval_indices = np.random.choice(len(test_dataset), N_eval, replace=False)\n",
        "\n",
        "# Subsets\n",
        "train_subset = Subset(train_dataset, train_indices)\n",
        "eval_subset = Subset(test_dataset, eval_indices)\n",
        "\n",
        "# Load model\n",
        "num_labels = 2\n",
        "model = DistilBertForSequenceClassification.from_pretrained(\n",
        "    \"distilbert-base-uncased\",\n",
        "    num_labels=num_labels\n",
        ")\n",
        "\n",
        "# Training arguments\n",
        "training_args = TrainingArguments(\n",
        "    output_dir=\"./results\",\n",
        "    eval_strategy=\"epoch\",\n",
        "    save_strategy=\"epoch\",\n",
        "    per_device_train_batch_size=16,\n",
        "    per_device_eval_batch_size=64,\n",
        "    num_train_epochs=3,\n",
        "    weight_decay=0.01,\n",
        "    logging_dir=\"./logs\",\n",
        "    logging_steps=10,\n",
        ")\n",
        "\n",
        "# Trainer\n",
        "trainer = Trainer(\n",
        "    model=model,\n",
        "    args=training_args,\n",
        "    train_dataset=train_subset,\n",
        "    eval_dataset=eval_subset,\n",
        ")\n",
        "\n",
        "# Train!\n",
        "trainer.train()\n"
      ]
    },
    {
      "cell_type": "code",
      "execution_count": null,
      "id": "d8f196b5",
      "metadata": {
        "colab": {
          "base_uri": "https://localhost:8080/"
        },
        "id": "d8f196b5",
        "outputId": "572f3ec5-d512-447b-a66f-c6325f462eb8"
      },
      "outputs": [
        {
          "data": {
            "text/plain": [
              "('results/recipe_classifier/tokenizer_config.json',\n",
              " 'results/recipe_classifier/special_tokens_map.json',\n",
              " 'results/recipe_classifier/vocab.txt',\n",
              " 'results/recipe_classifier/added_tokens.json',\n",
              " 'results/recipe_classifier/tokenizer.json')"
            ]
          },
          "execution_count": 21,
          "metadata": {},
          "output_type": "execute_result"
        }
      ],
      "source": [
        "import os\n",
        "\n",
        "# Create the directory if it doesn't exist\n",
        "os.makedirs(\"results\", exist_ok=True)\n",
        "\n",
        "# Save the model\n",
        "model.save_pretrained(\"results/recipe_classifier\")\n",
        "# tokenizer.save_pretrained(\"results/recipe_classifier\")\n",
        "\n",
        "# Load the model\n",
        "# from transformers import DistilBertForSequenceClassification, DistilBertTokenizer\n",
        "# model = DistilBertForSequenceClassification.from_pretrained(\"recipe_classifier\")\n",
        "# tokenizer = DistilBertTokenizer.from_pretrained(\"recipe_classifier\")"
      ]
    },
    {
      "cell_type": "markdown",
      "id": "uQyn6Knw7Bsv",
      "metadata": {
        "id": "uQyn6Knw7Bsv"
      },
      "source": [
        "## Eval"
      ]
    },
    {
      "cell_type": "code",
      "execution_count": null,
      "id": "1GEmgYFX_oHt",
      "metadata": {
        "colab": {
          "base_uri": "https://localhost:8080/",
          "height": 173
        },
        "id": "1GEmgYFX_oHt",
        "outputId": "31c0db41-1061-4c3f-9dfa-d187ac3b5f81"
      },
      "outputs": [
        {
          "data": {
            "text/html": [],
            "text/plain": [
              "<IPython.core.display.HTML object>"
            ]
          },
          "metadata": {},
          "output_type": "display_data"
        },
        {
          "name": "stdout",
          "output_type": "stream",
          "text": [
            "              precision    recall  f1-score   support\n",
            "\n",
            "      class1       1.00      0.98      0.99     36080\n",
            "      class2       0.95      0.99      0.97     13920\n",
            "\n",
            "    accuracy                           0.98     50000\n",
            "   macro avg       0.98      0.99      0.98     50000\n",
            "weighted avg       0.98      0.98      0.98     50000\n",
            "\n"
          ]
        }
      ],
      "source": [
        "from torch.utils.data import Subset\n",
        "from sklearn.metrics import classification_report\n",
        "import numpy as np\n",
        "\n",
        "# Take the first 100 items of the test dataset\n",
        "subset_indices = list(range(50_000))\n",
        "small_test_dataset = Subset(test_dataset, subset_indices)\n",
        "small_test_labels = [test_labels[i] for i in subset_indices]\n",
        "\n",
        "# Predict\n",
        "preds_output = trainer.predict(small_test_dataset)\n",
        "preds = np.argmax(preds_output.predictions, axis=1)\n",
        "\n",
        "# Report\n",
        "print(classification_report(\n",
        "    small_test_labels,\n",
        "    preds,\n",
        "    target_names=['class1', 'class2'],\n",
        "    zero_division=0\n",
        "))\n"
      ]
    }
  ],
  "metadata": {
    "accelerator": "GPU",
    "colab": {
      "gpuType": "T4",
      "provenance": []
    },
    "kernelspec": {
      "display_name": "Python 3",
      "name": "python3"
    },
    "language_info": {
      "codemirror_mode": {
        "name": "ipython",
        "version": 3
      },
      "file_extension": ".py",
      "mimetype": "text/x-python",
      "name": "python",
      "nbconvert_exporter": "python",
      "pygments_lexer": "ipython3",
      "version": "3.11.11"
    },
    "widgets": {
      "application/vnd.jupyter.widget-state+json": {
        "4127634effb64b03a20759d0c2d75f0e": {
          "model_module": "@jupyter-widgets/controls",
          "model_module_version": "1.5.0",
          "model_name": "HTMLModel",
          "state": {
            "_dom_classes": [],
            "_model_module": "@jupyter-widgets/controls",
            "_model_module_version": "1.5.0",
            "_model_name": "HTMLModel",
            "_view_count": null,
            "_view_module": "@jupyter-widgets/controls",
            "_view_module_version": "1.5.0",
            "_view_name": "HTMLView",
            "description": "",
            "description_tooltip": null,
            "layout": "IPY_MODEL_ce7fa231ce1b4fdc949cb863c8623ec5",
            "placeholder": "​",
            "style": "IPY_MODEL_a9cb1a3f1e2c4494abaad4f16f85aa15",
            "value": "Map: 100%"
          }
        },
        "582455421bcd457d9510fe264ab8f10b": {
          "model_module": "@jupyter-widgets/controls",
          "model_module_version": "1.5.0",
          "model_name": "HTMLModel",
          "state": {
            "_dom_classes": [],
            "_model_module": "@jupyter-widgets/controls",
            "_model_module_version": "1.5.0",
            "_model_name": "HTMLModel",
            "_view_count": null,
            "_view_module": "@jupyter-widgets/controls",
            "_view_module_version": "1.5.0",
            "_view_name": "HTMLView",
            "description": "",
            "description_tooltip": null,
            "layout": "IPY_MODEL_e293d1a60aa94da9ae4fbbc4357f779a",
            "placeholder": "​",
            "style": "IPY_MODEL_8238e39a0b0240ea8cf07bbe480c3fb0",
            "value": " 4/4 [00:00&lt;00:00, 20.44 examples/s]"
          }
        },
        "72554aeacb1b4b99a5e1a0c2b67ad3fc": {
          "model_module": "@jupyter-widgets/base",
          "model_module_version": "1.2.0",
          "model_name": "LayoutModel",
          "state": {
            "_model_module": "@jupyter-widgets/base",
            "_model_module_version": "1.2.0",
            "_model_name": "LayoutModel",
            "_view_count": null,
            "_view_module": "@jupyter-widgets/base",
            "_view_module_version": "1.2.0",
            "_view_name": "LayoutView",
            "align_content": null,
            "align_items": null,
            "align_self": null,
            "border": null,
            "bottom": null,
            "display": null,
            "flex": null,
            "flex_flow": null,
            "grid_area": null,
            "grid_auto_columns": null,
            "grid_auto_flow": null,
            "grid_auto_rows": null,
            "grid_column": null,
            "grid_gap": null,
            "grid_row": null,
            "grid_template_areas": null,
            "grid_template_columns": null,
            "grid_template_rows": null,
            "height": null,
            "justify_content": null,
            "justify_items": null,
            "left": null,
            "margin": null,
            "max_height": null,
            "max_width": null,
            "min_height": null,
            "min_width": null,
            "object_fit": null,
            "object_position": null,
            "order": null,
            "overflow": null,
            "overflow_x": null,
            "overflow_y": null,
            "padding": null,
            "right": null,
            "top": null,
            "visibility": null,
            "width": null
          }
        },
        "7da4a7865b2849c8a0c2deea673e9809": {
          "model_module": "@jupyter-widgets/controls",
          "model_module_version": "1.5.0",
          "model_name": "HBoxModel",
          "state": {
            "_dom_classes": [],
            "_model_module": "@jupyter-widgets/controls",
            "_model_module_version": "1.5.0",
            "_model_name": "HBoxModel",
            "_view_count": null,
            "_view_module": "@jupyter-widgets/controls",
            "_view_module_version": "1.5.0",
            "_view_name": "HBoxView",
            "box_style": "",
            "children": [
              "IPY_MODEL_4127634effb64b03a20759d0c2d75f0e",
              "IPY_MODEL_bd97b26859e74cbb8fec80af41eb35e9",
              "IPY_MODEL_582455421bcd457d9510fe264ab8f10b"
            ],
            "layout": "IPY_MODEL_72554aeacb1b4b99a5e1a0c2b67ad3fc"
          }
        },
        "8238e39a0b0240ea8cf07bbe480c3fb0": {
          "model_module": "@jupyter-widgets/controls",
          "model_module_version": "1.5.0",
          "model_name": "DescriptionStyleModel",
          "state": {
            "_model_module": "@jupyter-widgets/controls",
            "_model_module_version": "1.5.0",
            "_model_name": "DescriptionStyleModel",
            "_view_count": null,
            "_view_module": "@jupyter-widgets/base",
            "_view_module_version": "1.2.0",
            "_view_name": "StyleView",
            "description_width": ""
          }
        },
        "9666029280ee4ee5a6fae535a6c8e401": {
          "model_module": "@jupyter-widgets/base",
          "model_module_version": "1.2.0",
          "model_name": "LayoutModel",
          "state": {
            "_model_module": "@jupyter-widgets/base",
            "_model_module_version": "1.2.0",
            "_model_name": "LayoutModel",
            "_view_count": null,
            "_view_module": "@jupyter-widgets/base",
            "_view_module_version": "1.2.0",
            "_view_name": "LayoutView",
            "align_content": null,
            "align_items": null,
            "align_self": null,
            "border": null,
            "bottom": null,
            "display": null,
            "flex": null,
            "flex_flow": null,
            "grid_area": null,
            "grid_auto_columns": null,
            "grid_auto_flow": null,
            "grid_auto_rows": null,
            "grid_column": null,
            "grid_gap": null,
            "grid_row": null,
            "grid_template_areas": null,
            "grid_template_columns": null,
            "grid_template_rows": null,
            "height": null,
            "justify_content": null,
            "justify_items": null,
            "left": null,
            "margin": null,
            "max_height": null,
            "max_width": null,
            "min_height": null,
            "min_width": null,
            "object_fit": null,
            "object_position": null,
            "order": null,
            "overflow": null,
            "overflow_x": null,
            "overflow_y": null,
            "padding": null,
            "right": null,
            "top": null,
            "visibility": null,
            "width": null
          }
        },
        "a9cb1a3f1e2c4494abaad4f16f85aa15": {
          "model_module": "@jupyter-widgets/controls",
          "model_module_version": "1.5.0",
          "model_name": "DescriptionStyleModel",
          "state": {
            "_model_module": "@jupyter-widgets/controls",
            "_model_module_version": "1.5.0",
            "_model_name": "DescriptionStyleModel",
            "_view_count": null,
            "_view_module": "@jupyter-widgets/base",
            "_view_module_version": "1.2.0",
            "_view_name": "StyleView",
            "description_width": ""
          }
        },
        "b10e30db6ffb4984b4758022da544aa2": {
          "model_module": "@jupyter-widgets/controls",
          "model_module_version": "1.5.0",
          "model_name": "ProgressStyleModel",
          "state": {
            "_model_module": "@jupyter-widgets/controls",
            "_model_module_version": "1.5.0",
            "_model_name": "ProgressStyleModel",
            "_view_count": null,
            "_view_module": "@jupyter-widgets/base",
            "_view_module_version": "1.2.0",
            "_view_name": "StyleView",
            "bar_color": null,
            "description_width": ""
          }
        },
        "bd97b26859e74cbb8fec80af41eb35e9": {
          "model_module": "@jupyter-widgets/controls",
          "model_module_version": "1.5.0",
          "model_name": "FloatProgressModel",
          "state": {
            "_dom_classes": [],
            "_model_module": "@jupyter-widgets/controls",
            "_model_module_version": "1.5.0",
            "_model_name": "FloatProgressModel",
            "_view_count": null,
            "_view_module": "@jupyter-widgets/controls",
            "_view_module_version": "1.5.0",
            "_view_name": "ProgressView",
            "bar_style": "success",
            "description": "",
            "description_tooltip": null,
            "layout": "IPY_MODEL_9666029280ee4ee5a6fae535a6c8e401",
            "max": 4,
            "min": 0,
            "orientation": "horizontal",
            "style": "IPY_MODEL_b10e30db6ffb4984b4758022da544aa2",
            "value": 4
          }
        },
        "ce7fa231ce1b4fdc949cb863c8623ec5": {
          "model_module": "@jupyter-widgets/base",
          "model_module_version": "1.2.0",
          "model_name": "LayoutModel",
          "state": {
            "_model_module": "@jupyter-widgets/base",
            "_model_module_version": "1.2.0",
            "_model_name": "LayoutModel",
            "_view_count": null,
            "_view_module": "@jupyter-widgets/base",
            "_view_module_version": "1.2.0",
            "_view_name": "LayoutView",
            "align_content": null,
            "align_items": null,
            "align_self": null,
            "border": null,
            "bottom": null,
            "display": null,
            "flex": null,
            "flex_flow": null,
            "grid_area": null,
            "grid_auto_columns": null,
            "grid_auto_flow": null,
            "grid_auto_rows": null,
            "grid_column": null,
            "grid_gap": null,
            "grid_row": null,
            "grid_template_areas": null,
            "grid_template_columns": null,
            "grid_template_rows": null,
            "height": null,
            "justify_content": null,
            "justify_items": null,
            "left": null,
            "margin": null,
            "max_height": null,
            "max_width": null,
            "min_height": null,
            "min_width": null,
            "object_fit": null,
            "object_position": null,
            "order": null,
            "overflow": null,
            "overflow_x": null,
            "overflow_y": null,
            "padding": null,
            "right": null,
            "top": null,
            "visibility": null,
            "width": null
          }
        },
        "e293d1a60aa94da9ae4fbbc4357f779a": {
          "model_module": "@jupyter-widgets/base",
          "model_module_version": "1.2.0",
          "model_name": "LayoutModel",
          "state": {
            "_model_module": "@jupyter-widgets/base",
            "_model_module_version": "1.2.0",
            "_model_name": "LayoutModel",
            "_view_count": null,
            "_view_module": "@jupyter-widgets/base",
            "_view_module_version": "1.2.0",
            "_view_name": "LayoutView",
            "align_content": null,
            "align_items": null,
            "align_self": null,
            "border": null,
            "bottom": null,
            "display": null,
            "flex": null,
            "flex_flow": null,
            "grid_area": null,
            "grid_auto_columns": null,
            "grid_auto_flow": null,
            "grid_auto_rows": null,
            "grid_column": null,
            "grid_gap": null,
            "grid_row": null,
            "grid_template_areas": null,
            "grid_template_columns": null,
            "grid_template_rows": null,
            "height": null,
            "justify_content": null,
            "justify_items": null,
            "left": null,
            "margin": null,
            "max_height": null,
            "max_width": null,
            "min_height": null,
            "min_width": null,
            "object_fit": null,
            "object_position": null,
            "order": null,
            "overflow": null,
            "overflow_x": null,
            "overflow_y": null,
            "padding": null,
            "right": null,
            "top": null,
            "visibility": null,
            "width": null
          }
        }
      }
    }
  },
  "nbformat": 4,
  "nbformat_minor": 5
}
